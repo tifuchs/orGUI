{
 "cells": [
  {
   "cell_type": "markdown",
   "metadata": {},
   "source": [
    "Open the file 'test_locking.h5' simultaneously in orGUI to check for file locking issues"
   ]
  },
  {
   "cell_type": "code",
   "execution_count": 54,
   "metadata": {},
   "outputs": [],
   "source": [
    "import h5py\n",
    "import os"
   ]
  },
  {
   "cell_type": "code",
   "execution_count": 2,
   "metadata": {},
   "outputs": [],
   "source": [
    "#os.environ"
   ]
  },
  {
   "cell_type": "code",
   "execution_count": 6,
   "metadata": {},
   "outputs": [],
   "source": [
    "#os.environ[\"HDF5_USE_FILE_LOCKING\"] = \"False\""
   ]
  },
  {
   "cell_type": "code",
   "execution_count": 72,
   "metadata": {},
   "outputs": [
    {
     "name": "stdout",
     "output_type": "stream",
     "text": [
      "test13\n",
      "['test1', 'test2', 'test3', 'test4', 'test5', 'test6', 'test7', 'test8', 'test9', 'test10', 'test11', 'test12', 'test13']\n"
     ]
    }
   ],
   "source": [
    "with h5py.File(r\"test_locking.h5\",'r+') as f:\n",
    "   keys = list(f.keys())\n",
    "   if keys != []:\n",
    "      name = keys[-1][:-1] + str(int(keys[-1][-1]) + 1)\n",
    "   else:\n",
    "      name = 'test1'\n",
    "   print(name)\n",
    "   dset = f.create_dataset(name, (2,), dtype='i')\n",
    "   print(list(f.keys()))"
   ]
  },
  {
   "cell_type": "code",
   "execution_count": 73,
   "metadata": {},
   "outputs": [
    {
     "name": "stdout",
     "output_type": "stream",
     "text": [
      "deleted test1\n",
      "deleted test2\n",
      "deleted test3\n",
      "deleted test4\n",
      "deleted test5\n",
      "deleted test6\n",
      "deleted test7\n",
      "deleted test8\n",
      "deleted test9\n",
      "deleted test10\n",
      "deleted test11\n",
      "deleted test12\n",
      "deleted test13\n"
     ]
    }
   ],
   "source": [
    "with h5py.File(r\"test_locking.h5\",'r+') as f:\n",
    "   for i in list(f.keys()):\n",
    "      print('deleted ' + i)\n",
    "      del f[i]"
   ]
  },
  {
   "cell_type": "code",
   "execution_count": 74,
   "metadata": {},
   "outputs": [],
   "source": [
    "f.close()"
   ]
  }
 ],
 "metadata": {
  "kernelspec": {
   "display_name": "beta",
   "language": "python",
   "name": "python3"
  },
  "language_info": {
   "codemirror_mode": {
    "name": "ipython",
    "version": 3
   },
   "file_extension": ".py",
   "mimetype": "text/x-python",
   "name": "python",
   "nbconvert_exporter": "python",
   "pygments_lexer": "ipython3",
   "version": "3.12.6"
  }
 },
 "nbformat": 4,
 "nbformat_minor": 2
}
