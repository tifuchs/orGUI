{
 "cells": [
  {
   "cell_type": "code",
   "execution_count": 49,
   "metadata": {},
   "outputs": [],
   "source": [
    "import h5py\n",
    "import os"
   ]
  },
  {
   "cell_type": "code",
   "execution_count": 50,
   "metadata": {},
   "outputs": [],
   "source": [
    "#os.environ"
   ]
  },
  {
   "cell_type": "code",
   "execution_count": 51,
   "metadata": {},
   "outputs": [
    {
     "name": "stdout",
     "output_type": "stream",
     "text": [
      "c:\\Users\\supex679\\xray_tools\\software\\hdf5-debug\n"
     ]
    }
   ],
   "source": [
    "print(os.getcwd())"
   ]
  },
  {
   "cell_type": "code",
   "execution_count": 52,
   "metadata": {},
   "outputs": [],
   "source": [
    "#os.environ[\"HDF5_USE_FILE_LOCKING\"] = \"False\""
   ]
  },
  {
   "cell_type": "code",
   "execution_count": 53,
   "metadata": {},
   "outputs": [
    {
     "name": "stdout",
     "output_type": "stream",
     "text": [
      "deleted 1.1\n"
     ]
    }
   ],
   "source": [
    "with h5py.File(r\"data/sample_0001/sample_0001.h5\",'r+') as f:\n",
    "   for i in list(f.keys()):\n",
    "      print('deleted ' + i)\n",
    "      del f[i]"
   ]
  },
  {
   "cell_type": "code",
   "execution_count": 54,
   "metadata": {},
   "outputs": [
    {
     "name": "stdout",
     "output_type": "stream",
     "text": [
      "1.1\n",
      "['1.1']\n"
     ]
    }
   ],
   "source": [
    "with h5py.File(r\"data/sample_0001/sample_0001.h5\",'r+') as f:\n",
    "   keys = list(f.keys())\n",
    "   if keys != []:\n",
    "      name = keys[-1][:-3] + str(int(keys[-1][-3]) + 1) + '.1'\n",
    "   else:\n",
    "      name = '1.1'\n",
    "   print(name)\n",
    "   dset = f.create_group(name)\n",
    "   f[name].create_dataset('tg2_dat1', (2,), dtype='i')\n",
    "\n",
    "   print(list(f.keys()))"
   ]
  },
  {
   "cell_type": "code",
   "execution_count": 55,
   "metadata": {},
   "outputs": [
    {
     "name": "stdout",
     "output_type": "stream",
     "text": [
      "deleted 1.1\n",
      "deleted 1.2\n",
      "deleted test_group2\n"
     ]
    }
   ],
   "source": [
    "with h5py.File(r\"data/proposal_sample.h5\",'r+') as f:\n",
    "   for i in list(f.keys()):\n",
    "      print('deleted ' + i)\n",
    "      del f[i]"
   ]
  },
  {
   "cell_type": "code",
   "execution_count": null,
   "metadata": {},
   "outputs": [
    {
     "name": "stdout",
     "output_type": "stream",
     "text": [
      "1.1\n",
      "['1.1', '1.2']\n"
     ]
    }
   ],
   "source": [
    "with h5py.File(r\"data/proposal_sample.h5\",'r+') as f:\n",
    "   keys = list(f.keys())\n",
    "   if keys != []:\n",
    "      name = keys[-1][:-3] + str(int(keys[-1][-3]) + 1) + '.1'\n",
    "   else:\n",
    "      name = '1.1'\n",
    "   print(name)\n",
    "   #dset = f.create_dataset(name, (2,), dtype='i')\n",
    "   #f[name] = h5py.ExternalLink(\"/home/esrf/schroter/Downloads/hdf5debug/data/sample_0001/sample_0001.h5\",\"/\" + name[:-1] + '1')# + \"/test_locking_child.h5\")\n",
    "   f[name] = h5py.ExternalLink(\"sample_0001/sample_0001.h5\",\"/\" + name[:-1] + '1')# + \"/test_locking_child.h5\")\n",
    "   dset = f.create_group(name[:-1]+'2')\n",
    "   dset = h5py.ExternalLink(\"/sample_0001/sample_0001.h5\",\"/\" + name[:-1] + '2')# + \"/test_locking_child.h5\")\n",
    "   #f['sample_0001_1.1'].attrs('NXclass') == 'NXentry'\n",
    "   #print(f['test_locking_child_0001'].items())\n",
    "   #f['test_locking_child_0001'].create_dataset('tg2_dat1', (2,), dtype='i')\n",
    "   print(list(f.keys()))\n",
    "   #f.libver()"
   ]
  },
  {
   "cell_type": "code",
   "execution_count": 57,
   "metadata": {},
   "outputs": [
    {
     "name": "stdout",
     "output_type": "stream",
     "text": [
      "['1.1', '1.2', 'test_group2']\n"
     ]
    }
   ],
   "source": [
    "with h5py.File(r\"data/proposal_sample.h5\",'r+') as f:\n",
    "    d = f.create_group('test_group2')\n",
    "    d.create_dataset('tg2_dat1', (2,), dtype='i')\n",
    "    print(list(f.keys()))"
   ]
  },
  {
   "cell_type": "code",
   "execution_count": 58,
   "metadata": {},
   "outputs": [],
   "source": [
    "f.close()"
   ]
  }
 ],
 "metadata": {
  "kernelspec": {
   "display_name": "beta",
   "language": "python",
   "name": "python3"
  },
  "language_info": {
   "codemirror_mode": {
    "name": "ipython",
    "version": 3
   },
   "file_extension": ".py",
   "mimetype": "text/x-python",
   "name": "python",
   "nbconvert_exporter": "python",
   "pygments_lexer": "ipython3",
   "version": "3.12.6"
  }
 },
 "nbformat": 4,
 "nbformat_minor": 4
}
